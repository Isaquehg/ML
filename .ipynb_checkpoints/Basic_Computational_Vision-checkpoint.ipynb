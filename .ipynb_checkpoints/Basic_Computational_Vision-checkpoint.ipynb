{
 "cells": [
  {
   "cell_type": "code",
   "execution_count": 5,
   "metadata": {
    "executionInfo": {
     "elapsed": 423,
     "status": "ok",
     "timestamp": 1644934360386,
     "user": {
      "displayName": "Isaque Hollanda Gonçalves",
      "photoUrl": "https://lh3.googleusercontent.com/a-/AOh14GhaLvDYr-rwYSZ4S1NxmfGstYyI0F2MyizlnXW5GvE=s64",
      "userId": "16114882800029312634"
     },
     "user_tz": 180
    },
    "id": "UWJ7f_KFtQLM"
   },
   "outputs": [],
   "source": [
    "import tensorflow as tf\n",
    "from tensorflow import keras\n",
    "import numpy as np"
   ]
  },
  {
   "cell_type": "code",
   "execution_count": 6,
   "metadata": {
    "executionInfo": {
     "elapsed": 21,
     "status": "ok",
     "timestamp": 1644934360387,
     "user": {
      "displayName": "Isaque Hollanda Gonçalves",
      "photoUrl": "https://lh3.googleusercontent.com/a-/AOh14GhaLvDYr-rwYSZ4S1NxmfGstYyI0F2MyizlnXW5GvE=s64",
      "userId": "16114882800029312634"
     },
     "user_tz": 180
    },
    "id": "cA_xVReStfL-"
   },
   "outputs": [],
   "source": [
    "#importing a mnist containig multiple 28x28 fashion items\n",
    "mnist = tf.keras.datasets.fashion_mnist"
   ]
  },
  {
   "cell_type": "code",
   "execution_count": 7,
   "metadata": {
    "colab": {
     "base_uri": "https://localhost:8080/"
    },
    "executionInfo": {
     "elapsed": 837,
     "status": "ok",
     "timestamp": 1644934361206,
     "user": {
      "displayName": "Isaque Hollanda Gonçalves",
      "photoUrl": "https://lh3.googleusercontent.com/a-/AOh14GhaLvDYr-rwYSZ4S1NxmfGstYyI0F2MyizlnXW5GvE=s64",
      "userId": "16114882800029312634"
     },
     "user_tz": 180
    },
    "id": "xB1Xcs8itj5v",
    "outputId": "0b98a1de-370f-4e9b-dbc4-78fae4463cb8"
   },
   "outputs": [
    {
     "name": "stdout",
     "output_type": "stream",
     "text": [
      "Downloading data from https://storage.googleapis.com/tensorflow/tf-keras-datasets/train-labels-idx1-ubyte.gz\n",
      "32768/29515 [=================================] - 0s 0us/step\n",
      "40960/29515 [=========================================] - 0s 0us/step\n",
      "Downloading data from https://storage.googleapis.com/tensorflow/tf-keras-datasets/train-images-idx3-ubyte.gz\n",
      "26427392/26421880 [==============================] - 0s 0us/step\n",
      "26435584/26421880 [==============================] - 0s 0us/step\n",
      "Downloading data from https://storage.googleapis.com/tensorflow/tf-keras-datasets/t10k-labels-idx1-ubyte.gz\n",
      "16384/5148 [===============================================================================================] - 0s 0us/step\n",
      "Downloading data from https://storage.googleapis.com/tensorflow/tf-keras-datasets/t10k-images-idx3-ubyte.gz\n",
      "4423680/4422102 [==============================] - 0s 0us/step\n",
      "4431872/4422102 [==============================] - 0s 0us/step\n"
     ]
    }
   ],
   "source": [
    "#loading training and testing values\n",
    "(training_images, training_labels), (test_images, test_labels) = mnist.load_data()"
   ]
  },
  {
   "cell_type": "code",
   "execution_count": 8,
   "metadata": {
    "executionInfo": {
     "elapsed": 8,
     "status": "ok",
     "timestamp": 1644934361207,
     "user": {
      "displayName": "Isaque Hollanda Gonçalves",
      "photoUrl": "https://lh3.googleusercontent.com/a-/AOh14GhaLvDYr-rwYSZ4S1NxmfGstYyI0F2MyizlnXW5GvE=s64",
      "userId": "16114882800029312634"
     },
     "user_tz": 180
    },
    "id": "TbeTuNpGuPRj"
   },
   "outputs": [],
   "source": [
    "#normalizing(from 0 to 255 to 0 to 1)\n",
    "training_images  = training_images / 255.0\n",
    "test_images = test_images / 255.0"
   ]
  },
  {
   "cell_type": "code",
   "execution_count": 15,
   "metadata": {
    "executionInfo": {
     "elapsed": 360,
     "status": "ok",
     "timestamp": 1644934856772,
     "user": {
      "displayName": "Isaque Hollanda Gonçalves",
      "photoUrl": "https://lh3.googleusercontent.com/a-/AOh14GhaLvDYr-rwYSZ4S1NxmfGstYyI0F2MyizlnXW5GvE=s64",
      "userId": "16114882800029312634"
     },
     "user_tz": 180
    },
    "id": "H0I2mNiMul4a"
   },
   "outputs": [],
   "source": [
    "model = tf.keras.models.Sequential([tf.keras.layers.Flatten(), #turns 28x28 into a flatten layer to use 1 neuron\n",
    "                                    tf.keras.layers.Dense(1024, activation=tf.nn.relu),#if we increase the neuron numbers, it will take more time e will be more accurate\n",
    "                                    tf.keras.layers.Dense(10, activation=tf.nn.softmax)])\n",
    "\n",
    "#-Sequential defines a sequence of layers in the neural network.\n",
    "#-Flatten takes a square and turns it into a one-dimensional vector.\n",
    "#-Dense adds a layer of neurons.\n",
    "#-Activation functions tell each layer of neurons what to do. There are lots of options, but use these for now:\n",
    "#-Relu effectively means that if X is greater than 0 return X, else return 0. It only passes values of 0 or greater to the next layer in the network.\n",
    "#-Softmax takes a set of values, and effectively picks the biggest one. For example, if the output of the last layer looks like [0.1, 0.1, 0.05, 0.1, 9.5, 0.1, 0.05, 0.05, 0.05], then it saves you from having to sort for the largest value—it returns [0,0,0,0,1,0,0,0,0]."
   ]
  },
  {
   "cell_type": "code",
   "execution_count": 16,
   "metadata": {
    "colab": {
     "base_uri": "https://localhost:8080/"
    },
    "executionInfo": {
     "elapsed": 89159,
     "status": "ok",
     "timestamp": 1644934947892,
     "user": {
      "displayName": "Isaque Hollanda Gonçalves",
      "photoUrl": "https://lh3.googleusercontent.com/a-/AOh14GhaLvDYr-rwYSZ4S1NxmfGstYyI0F2MyizlnXW5GvE=s64",
      "userId": "16114882800029312634"
     },
     "user_tz": 180
    },
    "id": "0ShegBvZvsMF",
    "outputId": "e13a7748-5b0d-4159-e71f-00c250338df6"
   },
   "outputs": [
    {
     "name": "stdout",
     "output_type": "stream",
     "text": [
      "Epoch 1/5\n",
      "1875/1875 [==============================] - 20s 11ms/step - loss: 0.4693 - accuracy: 0.8320\n",
      "Epoch 2/5\n",
      "1875/1875 [==============================] - 20s 11ms/step - loss: 0.3593 - accuracy: 0.8685\n",
      "Epoch 3/5\n",
      "1875/1875 [==============================] - 16s 9ms/step - loss: 0.3216 - accuracy: 0.8825\n",
      "Epoch 4/5\n",
      "1875/1875 [==============================] - 16s 9ms/step - loss: 0.2967 - accuracy: 0.8907\n",
      "Epoch 5/5\n",
      "1875/1875 [==============================] - 16s 8ms/step - loss: 0.2777 - accuracy: 0.8971\n"
     ]
    },
    {
     "data": {
      "text/plain": [
       "<keras.callbacks.History at 0x7fe186409250>"
      ]
     },
     "execution_count": 16,
     "metadata": {},
     "output_type": "execute_result"
    }
   ],
   "source": [
    "#Optimization and loss\n",
    "model.compile(optimizer = tf.keras.optimizers.Adam(),\n",
    "              loss = 'sparse_categorical_crossentropy',\n",
    "              metrics=['accuracy'])\n",
    "\n",
    "model.fit(training_images, training_labels, epochs=5)"
   ]
  },
  {
   "cell_type": "code",
   "execution_count": 13,
   "metadata": {
    "colab": {
     "base_uri": "https://localhost:8080/"
    },
    "executionInfo": {
     "elapsed": 939,
     "status": "ok",
     "timestamp": 1644934721488,
     "user": {
      "displayName": "Isaque Hollanda Gonçalves",
      "photoUrl": "https://lh3.googleusercontent.com/a-/AOh14GhaLvDYr-rwYSZ4S1NxmfGstYyI0F2MyizlnXW5GvE=s64",
      "userId": "16114882800029312634"
     },
     "user_tz": 180
    },
    "id": "6TS-m9xIvxYw",
    "outputId": "4e76453e-3b00-4eec-b38d-64f0e2073ad3"
   },
   "outputs": [
    {
     "name": "stdout",
     "output_type": "stream",
     "text": [
      "313/313 [==============================] - 1s 2ms/step - loss: 0.3508 - accuracy: 0.8723\n"
     ]
    },
    {
     "data": {
      "text/plain": [
       "[0.3507588803768158, 0.8723000288009644]"
      ]
     },
     "execution_count": 13,
     "metadata": {},
     "output_type": "execute_result"
    }
   ],
   "source": [
    "model.evaluate(test_images, test_labels)"
   ]
  },
  {
   "cell_type": "code",
   "execution_count": 14,
   "metadata": {
    "colab": {
     "base_uri": "https://localhost:8080/"
    },
    "executionInfo": {
     "elapsed": 864,
     "status": "ok",
     "timestamp": 1644934751772,
     "user": {
      "displayName": "Isaque Hollanda Gonçalves",
      "photoUrl": "https://lh3.googleusercontent.com/a-/AOh14GhaLvDYr-rwYSZ4S1NxmfGstYyI0F2MyizlnXW5GvE=s64",
      "userId": "16114882800029312634"
     },
     "user_tz": 180
    },
    "id": "DBfru3-xwFiq",
    "outputId": "79ada4a3-a884-4b12-fba9-6fcab000aea1"
   },
   "outputs": [
    {
     "name": "stdout",
     "output_type": "stream",
     "text": [
      "[8.7518066e-07 1.2913198e-11 2.8181030e-06 5.0500383e-08 3.8770779e-07\n",
      " 1.5429484e-03 6.2029344e-06 2.9175129e-02 3.3466083e-06 9.6926826e-01]\n"
     ]
    }
   ],
   "source": [
    "classifications = model.predict(test_images)\n",
    "print(classifications[0])"
   ]
  }
 ],
 "metadata": {
  "colab": {
   "authorship_tag": "ABX9TyOBpDqSZxUCgglIuNjSyiLn",
   "name": "Basic_Computational_Vision.ipynb",
   "provenance": []
  },
  "kernelspec": {
   "display_name": "Python 3 (ipykernel)",
   "language": "python",
   "name": "python3"
  },
  "language_info": {
   "codemirror_mode": {
    "name": "ipython",
    "version": 3
   },
   "file_extension": ".py",
   "mimetype": "text/x-python",
   "name": "python",
   "nbconvert_exporter": "python",
   "pygments_lexer": "ipython3",
   "version": "3.9.7"
  }
 },
 "nbformat": 4,
 "nbformat_minor": 1
}
